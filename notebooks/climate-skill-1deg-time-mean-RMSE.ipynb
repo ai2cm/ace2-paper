{
 "cells": [
  {
   "cell_type": "markdown",
   "id": "alleged-money",
   "metadata": {},
   "source": [
    "# Climate skill at 1&deg;: time-mean RMSE"
   ]
  },
  {
   "cell_type": "code",
   "execution_count": 1,
   "id": "prescription-addiction",
   "metadata": {},
   "outputs": [],
   "source": [
    "from collections import namedtuple\n",
    "import re\n",
    "from string import ascii_lowercase\n",
    "\n",
    "import wandb\n",
    "import xarray as xr\n",
    "import numpy as np\n",
    "from matplotlib import pyplot as plt\n",
    "import matplotlib as mpl\n",
    "\n",
    "from utils import wandb_to_beaker_experiment, wandb_to_beaker_result, get_scalar_metrics\n",
    "from constants import INFERENCE_COMPARISON_1DEG, WANDB_ENTITY, SECONDS_PER_DAY, WANDB_PROJECT"
   ]
  },
  {
   "cell_type": "code",
   "execution_count": 2,
   "id": "future-honor",
   "metadata": {},
   "outputs": [],
   "source": [
    "mpl.rc('font', size=8)"
   ]
  },
  {
   "cell_type": "code",
   "execution_count": 3,
   "id": "found-shopping",
   "metadata": {},
   "outputs": [],
   "source": [
    "api = wandb.Api()\n",
    "WandbRun = namedtuple('WandbRun', ['project', 'id'])\n",
    "EvalVar = namedtuple('EvalVar', ['name', 'conversion_factor', 'long_name', 'units', 'scale'])\n",
    "EvalMetric = namedtuple('EvalMetric', ['name', 'long_name'])"
   ]
  },
  {
   "cell_type": "code",
   "execution_count": 4,
   "id": "annual-budapest",
   "metadata": {},
   "outputs": [],
   "source": [
    "TIME_MEAN_EVAL_VARS = [\n",
    "    EvalVar('TMP2m', None, '2-meter temperature', 'K', 0.35),\n",
    "    EvalVar('PRATEsfc', SECONDS_PER_DAY, 'surface precipitation rate', 'mm/day', 0.6),\n",
    "    EvalVar('total_water_path', None, 'total water path', 'mm', 1.0),\n",
    "    EvalVar('h500', None, '500hPa height', 'm', 10)\n",
    "]\n",
    "TIME_MEAN_METRIC = EvalMetric(\"inference/time_mean/rmse\", \"RMSE of time-mean\")"
   ]
  },
  {
   "cell_type": "code",
   "execution_count": 5,
   "id": "normal-record",
   "metadata": {},
   "outputs": [
    {
     "name": "stdout",
     "output_type": "stream",
     "text": [
      "all_metric_names=['inference/time_mean/rmse/TMP2m', 'inference/time_mean/rmse/PRATEsfc', 'inference/time_mean/rmse/total_water_path', 'inference/time_mean/rmse/h500']\n"
     ]
    }
   ],
   "source": [
    "all_metrics = [(eval_var, TIME_MEAN_METRIC) for eval_var in TIME_MEAN_EVAL_VARS]\n",
    "all_metric_names = [\n",
    "    '/'.join([metric.name, eval_var.name])\n",
    "    for eval_var, metric in all_metrics\n",
    "]\n",
    "print(f\"{all_metric_names=}\")"
   ]
  },
  {
   "cell_type": "code",
   "execution_count": 6,
   "id": "current-immigration",
   "metadata": {},
   "outputs": [
    {
     "name": "stdout",
     "output_type": "stream",
     "text": [
      "Getting metrics for full_key='ACE2-ERA5/IC0'.\n",
      "Getting metrics for full_key='ACE2-ERA5/IC1'.\n",
      "Getting metrics for full_key='ACE2-ERA5/IC2'.\n",
      "Getting metrics for full_key='ACE2-AMIP/IC0'.\n",
      "Getting metrics for full_key='ACE2-AMIP/IC1'.\n",
      "Getting metrics for full_key='ACE2-AMIP/IC2'.\n",
      "Getting metrics for full_key='AMIP-reference'.\n",
      "Getting metrics for full_key='AMIP-vs.-ERA5/IC0'.\n",
      "Getting metrics for full_key='AMIP-vs.-ERA5/IC1'.\n"
     ]
    }
   ],
   "source": [
    "metrics = {}\n",
    "for run_group_name, run_group in INFERENCE_COMPARISON_1DEG[\"10yr\"].items():\n",
    "    if isinstance(run_group, dict):\n",
    "        for ic_name, run_id in run_group.items():\n",
    "            if '-' in ic_name:\n",
    "                ic_name = ic_name.split('-')[1]\n",
    "            full_key = '/'.join([run_group_name, ic_name])\n",
    "            print(f\"Getting metrics for {full_key=}.\")\n",
    "            run = api.run(f\"{WANDB_ENTITY}/{WANDB_PROJECT}/{run_id}\")\n",
    "            metrics[full_key] = get_scalar_metrics(run, all_metric_names)\n",
    "    else:\n",
    "        full_key = '/'.join([run_group_name])\n",
    "        print(f\"Getting metrics for {full_key=}.\")\n",
    "        run = api.run(f\"{WANDB_ENTITY}/{WANDB_PROJECT}/{run_group}\")\n",
    "        metrics[full_key] = get_scalar_metrics(run, all_metric_names)"
   ]
  },
  {
   "cell_type": "code",
   "execution_count": 7,
   "id": "alternate-helena",
   "metadata": {},
   "outputs": [
    {
     "data": {
      "text/plain": [
       "{'ACE2-ERA5/IC0': {'inference/time_mean/rmse/TMP2m': 0.22029906511306763,\n",
       "  'inference/time_mean/rmse/PRATEsfc': 4.03525245928904e-06,\n",
       "  'inference/time_mean/rmse/total_water_path': 0.6553439497947693,\n",
       "  'inference/time_mean/rmse/h500': 8.015103340148926},\n",
       " 'ACE2-ERA5/IC1': {'inference/time_mean/rmse/TMP2m': 0.21808268129825592,\n",
       "  'inference/time_mean/rmse/PRATEsfc': 4.1544221858202945e-06,\n",
       "  'inference/time_mean/rmse/total_water_path': 0.7010932564735413,\n",
       "  'inference/time_mean/rmse/h500': 6.614434719085693},\n",
       " 'ACE2-ERA5/IC2': {'inference/time_mean/rmse/TMP2m': 0.2051631361246109,\n",
       "  'inference/time_mean/rmse/PRATEsfc': 4.122086465940811e-06,\n",
       "  'inference/time_mean/rmse/total_water_path': 0.6562535166740417,\n",
       "  'inference/time_mean/rmse/h500': 5.405556678771973},\n",
       " 'ACE2-AMIP/IC0': {'inference/time_mean/rmse/TMP2m': 0.21627220511436462,\n",
       "  'inference/time_mean/rmse/PRATEsfc': 3.4892293570010224e-06,\n",
       "  'inference/time_mean/rmse/total_water_path': 0.4530387222766876,\n",
       "  'inference/time_mean/rmse/h500': 5.541255950927734},\n",
       " 'ACE2-AMIP/IC1': {'inference/time_mean/rmse/TMP2m': 0.223845973610878,\n",
       "  'inference/time_mean/rmse/PRATEsfc': 3.2201326121139573e-06,\n",
       "  'inference/time_mean/rmse/total_water_path': 0.4257464110851288,\n",
       "  'inference/time_mean/rmse/h500': 4.87010383605957},\n",
       " 'ACE2-AMIP/IC2': {'inference/time_mean/rmse/TMP2m': 0.21571342647075653,\n",
       "  'inference/time_mean/rmse/PRATEsfc': 3.0620014968008036e-06,\n",
       "  'inference/time_mean/rmse/total_water_path': 0.4104361832141876,\n",
       "  'inference/time_mean/rmse/h500': 4.359628200531006},\n",
       " 'AMIP-reference': {'inference/time_mean/rmse/TMP2m': 0.16951625049114227,\n",
       "  'inference/time_mean/rmse/PRATEsfc': 2.8065308015357004e-06,\n",
       "  'inference/time_mean/rmse/total_water_path': 0.3621197044849396,\n",
       "  'inference/time_mean/rmse/h500': 4.962555885314941},\n",
       " 'AMIP-vs.-ERA5/IC0': {'inference/time_mean/rmse/TMP2m': 1.6055577993392944,\n",
       "  'inference/time_mean/rmse/PRATEsfc': 1.3880093320040032e-05,\n",
       "  'inference/time_mean/rmse/total_water_path': 2.891493320465088,\n",
       "  'inference/time_mean/rmse/h500': 27.89677619934082},\n",
       " 'AMIP-vs.-ERA5/IC1': {'inference/time_mean/rmse/TMP2m': 1.5801584720611572,\n",
       "  'inference/time_mean/rmse/PRATEsfc': 1.4054988241696265e-05,\n",
       "  'inference/time_mean/rmse/total_water_path': 2.918074607849121,\n",
       "  'inference/time_mean/rmse/h500': 27.87453269958496}}"
      ]
     },
     "execution_count": 7,
     "metadata": {},
     "output_type": "execute_result"
    }
   ],
   "source": [
    "metrics"
   ]
  },
  {
   "cell_type": "code",
   "execution_count": 8,
   "id": "phantom-monster",
   "metadata": {},
   "outputs": [],
   "source": [
    "ic_key = '/IC[0-9]*$'\n",
    "duration_key = '^[0-9]*yr/'\n",
    "das = []\n",
    "for run_name, run_metrics in metrics.items():\n",
    "    run_coords = {}\n",
    "    ic_match = re.search(ic_key, run_name)\n",
    "    if ic_match:\n",
    "        trimmed_run_name = run_name[0:ic_match.span()[0]]\n",
    "        run_coords['IC'] = [ic_match.group().strip('/')]\n",
    "    else:\n",
    "        trimmed_run_name = run_name\n",
    "    duration_match = re.search(duration_key, trimmed_run_name)\n",
    "    if duration_match:\n",
    "        trimmed_run_name = trimmed_run_name[duration_match.span()[1]:]\n",
    "        run_coords['duration'] = [duration_match.group().strip('/')]\n",
    "    else:\n",
    "        trimmed_run_name = trimmed_run_name\n",
    "    metric_names, metric_values = zip(*run_metrics.items())\n",
    "    run_da = xr.DataArray(list(metric_values), dims='metric', coords={'metric': list(metric_names)}, name=trimmed_run_name)\n",
    "    das.append(run_da.expand_dims(run_coords))\n",
    "all_metrics_ds = xr.merge(das) "
   ]
  },
  {
   "cell_type": "code",
   "execution_count": 9,
   "id": "prospective-liechtenstein",
   "metadata": {},
   "outputs": [
    {
     "data": {
      "image/png": "[encoded data removed]",
      "text/plain": [
       "<Figure size 1300x400 with 4 Axes>"
      ]
     },
     "metadata": {},
     "output_type": "display_data"
    }
   ],
   "source": [
    "nrows, ncols = 1, len(TIME_MEAN_EVAL_VARS)\n",
    "fig, axes = plt.subplots(nrows, ncols, sharex=True, sharey=False)\n",
    "\n",
    "if len(axes.shape) == 1:\n",
    "    # if only plotting one variable\n",
    "    axes = axes[:, None]\n",
    "    \n",
    "for i, variable in enumerate(TIME_MEAN_EVAL_VARS):\n",
    "    full_metric_name = '/'.join([TIME_MEAN_METRIC.name, variable.name])\n",
    "    ax = axes[i, 0]\n",
    "    metric_ds = all_metrics_ds.sel(metric=full_metric_name).drop_vars(['AMIP-vs.-ERA5'])\n",
    "    if variable.conversion_factor is not None:\n",
    "        metric_ds = metric_ds * variable.conversion_factor\n",
    "    mean = metric_ds.mean('IC')\n",
    "    yupper = (metric_ds.max('IC') - mean)\n",
    "    ylower = (metric_ds.min('IC') - mean)\n",
    "    both = np.vstack([yupper.to_array().to_numpy(), ylower.to_array().to_numpy()])\n",
    "    mean.to_array(dim='run_group', name=full_metric_name).to_dataframe().plot.bar(yerr=both, ax=ax, error_kw=dict(capsize=6, linewidth=1, color='k'), linewidth=1, edgecolor='k', legend=False)\n",
    "    ax.set_xlabel(None)\n",
    "    ax.set_ylabel(f\"{variable.units}\")\n",
    "    ax.grid(axis='y')\n",
    "    ax.set_ylim([0, variable.scale])\n",
    "    ax.set_title(f\"{ascii_lowercase[i]}) {variable.long_name}\")\n",
    "for ax in axes.flatten():\n",
    "    ax.set_xticklabels([varname.replace('_', ' ') for varname in metric_ds.data_vars], rotation=45)\n",
    "fig.set_size_inches([13, 4])\n",
    "fig.tight_layout()\n",
    "fig.savefig('time_mean_rmse_1deg.png', bbox_inches='tight', facecolor='w')"
   ]
  },
  {
   "cell_type": "code",
   "execution_count": null,
   "id": "italic-medicine",
   "metadata": {},
   "outputs": [],
   "source": []
  }
 ],
 "metadata": {
  "kernelspec": {
   "display_name": "ace2-paper",
   "language": "python",
   "name": "ace2-paper"
  },
  "language_info": {
   "codemirror_mode": {
    "name": "ipython",
    "version": 3
   },
   "file_extension": ".py",
   "mimetype": "text/x-python",
   "name": "python",
   "nbconvert_exporter": "python",
   "pygments_lexer": "ipython3",
   "version": "3.10.14"
  }
 },
 "nbformat": 4,
 "nbformat_minor": 5
}
