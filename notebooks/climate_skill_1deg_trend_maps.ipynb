{
 "cells": [
  {
   "cell_type": "markdown",
   "id": "68756c22",
   "metadata": {},
   "source": [
    "## Plot maps of `TMP2m` trend for both SHiELD/ERA5 and corresponding ACE models"
   ]
  },
  {
   "cell_type": "code",
   "execution_count": null,
   "id": "2916a142",
   "metadata": {},
   "outputs": [],
   "source": [
    "from collections import namedtuple\n",
    "\n",
    "import xarray as xr\n",
    "import numpy as np\n",
    "from matplotlib import pyplot as plt\n",
    "from cartopy import crs as ccrs\n",
    "\n",
    "from utils import get_beaker_dataset_variables\n",
    "from constants import WANDB_ID_FILE\n",
    "\n",
    "import yaml\n",
    "plt.rcParams['figure.dpi'] = 300\n",
    "xr.set_options(keep_attrs=True)"
   ]
  },
  {
   "cell_type": "code",
   "execution_count": null,
   "id": "6c2882a4",
   "metadata": {},
   "outputs": [],
   "source": [
    "with open(WANDB_ID_FILE, \"r\") as f:\n",
    "    wandb_ids = yaml.safe_load(f)\n"
   ]
  },
  {
   "cell_type": "code",
   "execution_count": null,
   "id": "e4c749a7",
   "metadata": {},
   "outputs": [],
   "source": [
    "EvalVar = namedtuple(\"EvalVar\", (\"name\", \"long_name\", \"units\"))\n",
    "\n",
    "EVAL_VARS = [\n",
    "    EvalVar(\"TMP2m\", \"2-meter\\nair temperature\", \"K\"),\n",
    "]\n",
    "DS_VARS = [x.name for x in EVAL_VARS]"
   ]
  },
  {
   "cell_type": "code",
   "execution_count": null,
   "id": "ed153a2b",
   "metadata": {},
   "outputs": [],
   "source": [
    "ACE2_SHIELD_RUN = \"shield-amip-1deg-ace2-inference-81yr-IC0\"\n",
    "ACE2_ERA5_RUN = \"era5-co2-81yr-RS2-IC0-monthly-output\"\n",
    "WANDB_RUNS = {\n",
    "    \"ACE2_SHIELD\": wandb_ids[ACE2_SHIELD_RUN],\n",
    "    \"ACE2_ERA5\": wandb_ids[ACE2_ERA5_RUN],\n",
    "}"
   ]
  },
  {
   "cell_type": "code",
   "execution_count": null,
   "id": "7c1f63da",
   "metadata": {},
   "outputs": [],
   "source": [
    "def compute_slope_intercept(prediction, years):\n",
    "    return np.polyfit(years, prediction, 1)\n",
    "\n",
    "def compute_decadal_trend(prediction, years, **ufunc_kwargs):\n",
    "    result = xr.apply_ufunc(\n",
    "        compute_slope_intercept,\n",
    "        prediction,\n",
    "        years,\n",
    "        input_core_dims=[\n",
    "            (\"year\",),\n",
    "            (\"year\",),\n",
    "        ],\n",
    "        output_core_dims=[\n",
    "            (\"degree\",),\n",
    "        ],\n",
    "        vectorize=True,\n",
    "        **ufunc_kwargs\n",
    "    )\n",
    "    decadal_trend = 10 * result.isel(degree=0)\n",
    "    intercept = result.isel(degree=1)\n",
    "    start_year, end_year = years.values[0], years.values[-1]\n",
    "    for name in decadal_trend.data_vars:\n",
    "        decadal_trend[name].attrs[\"long_name\"] = f\"{start_year}-{end_year} trend of {prediction[name].attrs['long_name']}\"\n",
    "        decadal_trend[name].attrs[\"units\"] = f\"{prediction[name].attrs['units']} / decade\"\n",
    "    return decadal_trend, intercept"
   ]
  },
  {
   "cell_type": "code",
   "execution_count": null,
   "id": "1e57ba66",
   "metadata": {},
   "outputs": [],
   "source": [
    "# download annual- and global-mean time series from beaker\n",
    "datasets = []\n",
    "for name, run in WANDB_RUNS.items():\n",
    "    tmp = get_beaker_dataset_variables(run, 'monthly_mean_predictions.nc', DS_VARS)\n",
    "    prediction_dataset = tmp.squeeze().isel(time=slice(None, -3)).groupby('valid_time.year').mean()\n",
    "    tmp = get_beaker_dataset_variables(run, 'monthly_mean_target.nc', DS_VARS)\n",
    "    target_dataset = tmp.squeeze().isel(time=slice(None, -3)).groupby('valid_time.year').mean()\n",
    "    dims = {\"dataset\": [name]}\n",
    "    datasets.append(prediction_dataset.expand_dims(dims | {\"source\": [\"prediction\"]}))\n",
    "    datasets.append(target_dataset.expand_dims(dims | {\"source\": [\"target\"]}))\n",
    "annual_ds = xr.merge(datasets)\n",
    "\n",
    "# fixing issue where units are in long name\n",
    "annual_ds['TMP2m'].attrs['long_name'] = \"2m air temperature\"\n"
   ]
  },
  {
   "cell_type": "code",
   "execution_count": null,
   "id": "b24e3203",
   "metadata": {},
   "outputs": [],
   "source": [
    "# for computing global means\n",
    "weights = np.cos(np.deg2rad(annual_ds.lat))\n",
    "\n",
    "# compute spatial maps of decadal trends in each dataset\n",
    "trend_start_year = 1940\n",
    "trend_end_year = 2020\n",
    "tmp = annual_ds.sel(year=slice(trend_start_year, trend_end_year))\n",
    "prediction_trends, _ = compute_decadal_trend(tmp, tmp.year)\n",
    "\n",
    "# compute global- and annual-mean series\n",
    "global_annual_ds = annual_ds.weighted(weights).mean(dim=['lat', 'lon'])"
   ]
  },
  {
   "cell_type": "code",
   "execution_count": null,
   "id": "d7579b6d",
   "metadata": {},
   "outputs": [],
   "source": [
    "global_annual_ds.TMP2m.plot(hue='source', col='dataset')"
   ]
  },
  {
   "cell_type": "code",
   "execution_count": null,
   "id": "a89e159b",
   "metadata": {},
   "outputs": [],
   "source": [
    "plotme = prediction_trends.TMP2m\n",
    "fg = plotme.plot(\n",
    "    col='dataset',\n",
    "    row='source',\n",
    "    vmin=-0.5,\n",
    "    vmax=0.5,\n",
    "    cmap='RdBu_r',\n",
    "    transform=ccrs.PlateCarree(),\n",
    "    subplot_kws=dict(projection=ccrs.Robinson(central_longitude=180)),\n",
    ")\n",
    "fg.set_titles(template=\"\")\n",
    "titles = [['ACE2-ERA5', 'ACE2-SHiELD'], ['ERA5', 'SHiELD reference']]\n",
    "for i in range(len(fg.axs)):\n",
    "    for j in range(len(fg.axs[0])):\n",
    "        global_mean = plotme.isel(source=i, dataset=j).weighted(weights).mean().item()\n",
    "        global_mean_str = f\"{global_mean:0.2f} K$\\,$/$\\,$decade\"\n",
    "        fg.axs[i, j].set_title(titles[i][j] + \"\\n\" + global_mean_str, fontsize=9)\n",
    "        fg.axs[i, j].coastlines(linewidth=0.5, color='grey')\n",
    "\n",
    "fig = fg.fig\n",
    "fig.set_size_inches(6, 3.7)\n",
    "fig.savefig(\"figures/climate_skill_1deg_shield_and_era5_2m_trends.png\", dpi=300, bbox_inches='tight', transparent=True)"
   ]
  },
  {
   "cell_type": "markdown",
   "id": "5d683c84",
   "metadata": {},
   "source": []
  },
  {
   "cell_type": "markdown",
   "id": "c9494919",
   "metadata": {},
   "source": []
  }
 ],
 "metadata": {
  "kernelspec": {
   "display_name": "fme",
   "language": "python",
   "name": "python3"
  },
  "language_info": {
   "codemirror_mode": {
    "name": "ipython",
    "version": 3
   },
   "file_extension": ".py",
   "mimetype": "text/x-python",
   "name": "python",
   "nbconvert_exporter": "python",
   "pygments_lexer": "ipython3",
   "version": "3.11.11"
  }
 },
 "nbformat": 4,
 "nbformat_minor": 5
}
