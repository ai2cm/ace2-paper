{
 "cells": [
  {
   "cell_type": "code",
   "execution_count": 1,
   "metadata": {},
   "outputs": [],
   "source": [
    "import wandb\n",
    "import yaml"
   ]
  },
  {
   "cell_type": "code",
   "execution_count": 2,
   "metadata": {},
   "outputs": [],
   "source": [
    "api = wandb.Api()"
   ]
  },
  {
   "cell_type": "code",
   "execution_count": 3,
   "metadata": {},
   "outputs": [],
   "source": [
    "training_config_filepath = \"../experiments/training-era5-main/base-config.yaml\"\n",
    "with open(training_config_filepath, \"r\") as f:\n",
    "    training_config = yaml.safe_load(f)\n",
    "    out_names = training_config[\"stepper\"][\"out_names\"]"
   ]
  },
  {
   "cell_type": "code",
   "execution_count": 4,
   "metadata": {},
   "outputs": [],
   "source": [
    "# these IDs are for inference runs that twelve ICs each 5 years long, spanning 1940-2000\n",
    "ids = {\n",
    "    'rs0-era5': 'z8rm24sl',\n",
    "    'rs1-era5': '1slxcmd9',\n",
    "    'rs2-era5': 'zd8uq41z',\n",
    "    'rs3-era5': 'afkfq8d7',\n",
    "    'rs0-shield': 'vvv1zioj',\n",
    "    'rs1-shield': 'n0fzhbm8',\n",
    "    'rs2-shield': 'nyne4vm0',\n",
    "    'rs3-shield': 'fpwivzys',\n",
    "    'no-mois-cons-RS0': 'sldd1zin',\n",
    "    'no-mois-cons-RS1': 'oqpxipfy',\n",
    "    'no-mois-dryair-cons-RS0': 'd6h8c8du',\n",
    "    'no-mois-dryair-cons-RS1': '45j0sg10',\n",
    "}"
   ]
  },
  {
   "cell_type": "code",
   "execution_count": 5,
   "metadata": {},
   "outputs": [],
   "source": [
    "metrics = {}\n",
    "for name, id in ids.items():\n",
    "    run = api.run(f\"ai2cm/ace/{id}\")\n",
    "    metrics[name] = {}\n",
    "    for out_name in out_names:\n",
    "        metrics[name][out_name] = run.summary['inference/time_mean_norm/rmse/' + out_name]"
   ]
  },
  {
   "cell_type": "code",
   "execution_count": 6,
   "metadata": {},
   "outputs": [],
   "source": [
    "def computed_weighted_mean(channel_rmses, weights):\n",
    "    running_sum = 0\n",
    "    running_denominator_sum = 0\n",
    "    for name, value in channel_rmses.items():\n",
    "        weight = weights.get(name, 1)\n",
    "        running_sum += value * weight\n",
    "        running_denominator_sum += weight\n",
    "    return running_sum / running_denominator_sum"
   ]
  },
  {
   "cell_type": "code",
   "execution_count": 7,
   "metadata": {},
   "outputs": [
    {
     "data": {
      "text/plain": [
       "{'rs0-era5': 0.05397498693317175,\n",
       " 'rs1-era5': 0.034195146271958944,\n",
       " 'rs2-era5': 0.038642997406423095,\n",
       " 'rs3-era5': 0.044930524732917546,\n",
       " 'rs0-shield': 0.0519686390273273,\n",
       " 'rs1-shield': 0.02463358772918582,\n",
       " 'rs2-shield': 0.024683880195952954,\n",
       " 'rs3-shield': 0.0393001629319042,\n",
       " 'no-mois-cons-RS0': 0.04444670990575105,\n",
       " 'no-mois-cons-RS1': 0.02279729621950537,\n",
       " 'no-mois-dryair-cons-RS0': 0.033312641782686114,\n",
       " 'no-mois-dryair-cons-RS1': 0.02624955619685352}"
      ]
     },
     "execution_count": 7,
     "metadata": {},
     "output_type": "execute_result"
    }
   ],
   "source": [
    "weights = {}\n",
    "weighted_channel_mean = {}\n",
    "for name in ids:\n",
    "    weighted_channel_mean[name] = computed_weighted_mean(metrics[name], weights)\n",
    "weighted_channel_mean"
   ]
  },
  {
   "cell_type": "code",
   "execution_count": 8,
   "metadata": {},
   "outputs": [
    {
     "data": {
      "text/plain": [
       "{'rs0-era5': 0.044863832116794684,\n",
       " 'rs1-era5': 0.03205665309634628,\n",
       " 'rs2-era5': 0.029033424677953217,\n",
       " 'rs3-era5': 0.031185155271603718,\n",
       " 'rs0-shield': 0.03946695795051313,\n",
       " 'rs1-shield': 0.020915887639108597,\n",
       " 'rs2-shield': 0.01817166385034103,\n",
       " 'rs3-shield': 0.027587600027698486,\n",
       " 'no-mois-cons-RS0': 0.023019419460464458,\n",
       " 'no-mois-cons-RS1': 0.018357124984787886,\n",
       " 'no-mois-dryair-cons-RS0': 0.025761329030234918,\n",
       " 'no-mois-dryair-cons-RS1': 0.018758003266107163}"
      ]
     },
     "execution_count": 8,
     "metadata": {},
     "output_type": "execute_result"
    }
   ],
   "source": [
    "weights = {'specific_total_water_0': 0.1}\n",
    "weighted_channel_mean = {}\n",
    "for name in ids:\n",
    "    weighted_channel_mean[name] = computed_weighted_mean(metrics[name], weights)\n",
    "weighted_channel_mean"
   ]
  },
  {
   "cell_type": "code",
   "execution_count": null,
   "metadata": {},
   "outputs": [],
   "source": []
  }
 ],
 "metadata": {
  "kernelspec": {
   "display_name": "ace2-paper",
   "language": "python",
   "name": "python3"
  },
  "language_info": {
   "codemirror_mode": {
    "name": "ipython",
    "version": 3
   },
   "file_extension": ".py",
   "mimetype": "text/x-python",
   "name": "python",
   "nbconvert_exporter": "python",
   "pygments_lexer": "ipython3",
   "version": "3.10.15"
  }
 },
 "nbformat": 4,
 "nbformat_minor": 2
}
